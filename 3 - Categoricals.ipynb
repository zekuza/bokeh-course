{
 "cells": [
  {
   "cell_type": "code",
   "execution_count": 1,
   "metadata": {},
   "outputs": [],
   "source": [
    "# Imports\n",
    "\n",
    "from bokeh.plotting import figure\n",
    "from bokeh.io import output_file, show\n",
    "from bokeh.models.annotations import Label,LabelSet\n",
    "from bokeh.models import ColumnDataSource\n",
    "\n",
    "# Simple data\n",
    "\n",
    "x = ['E', 'D', 'C', 'B', 'A']\n",
    "y = ['E', 'D', 'C', 'B', 'A']\n",
    "\n",
    "\n",
    "# Create column datasource\n",
    "\n",
    "cds = ColumnDataSource(dict(average_grade = ['B','C','C','E'], \n",
    "                            exam_grade=['A','C','A','E'], \n",
    "                            student_name = ['Simon','Jason','Peter','Aaron']))\n",
    "\n",
    "# setup output file\n",
    "\n",
    "output_file(\"3_categorical.html\")\n",
    "\n",
    "# generate figure\n",
    "\n",
    "f = figure(x_range = x,\n",
    "          y_range = y)\n",
    "\n",
    "# Plot line\n",
    "\n",
    "f.circle(\n",
    "    x = 'average_grade',\n",
    "    y = 'exam_grade',\n",
    "    source = cds,\n",
    "    size = 8,\n",
    ")\n",
    "\n",
    "# Add labels for bokeh glyphs\n",
    "labels=LabelSet(\n",
    "    x='average_grade',\n",
    "    y='exam_grade',\n",
    "    text='student_name',\n",
    "    source=cds,\n",
    ")\n",
    "f.add_layout(labels)\n",
    "\n",
    "# add description\n",
    "description = Label(\n",
    "    x=1,\n",
    "    y=1,\n",
    "    text=\"This graph shows average grades and exam grades for 3rd grade students\",\n",
    "    render_mode=\"css\"\n",
    ")\n",
    "f.add_layout(description)\n",
    "\n",
    "show(f)\n"
   ]
  },
  {
   "cell_type": "code",
   "execution_count": null,
   "metadata": {},
   "outputs": [],
   "source": []
  }
 ],
 "metadata": {
  "kernelspec": {
   "display_name": "Python 3",
   "language": "python",
   "name": "python3"
  },
  "language_info": {
   "codemirror_mode": {
    "name": "ipython",
    "version": 3
   },
   "file_extension": ".py",
   "mimetype": "text/x-python",
   "name": "python",
   "nbconvert_exporter": "python",
   "pygments_lexer": "ipython3",
   "version": "3.8.5"
  }
 },
 "nbformat": 4,
 "nbformat_minor": 4
}
