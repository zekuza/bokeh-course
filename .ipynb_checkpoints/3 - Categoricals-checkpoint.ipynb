{
 "cells": [
  {
   "cell_type": "code",
   "execution_count": 11,
   "metadata": {},
   "outputs": [],
   "source": [
    "# Imports\n",
    "\n",
    "from bokeh.plotting import figure\n",
    "from bokeh.io import output_file, show\n",
    "from bokeh.models.annotations import Label\n",
    "from bokeh.models import ColumnDataSource\n",
    "\n",
    "# Simple data\n",
    "\n",
    "x = ['A','B','C','D','E']\n",
    "y = ['A','B','C','D','E']\n",
    "\n",
    "# Create column datasource\n",
    "\n",
    "cds = ColumnDataSource(dict(average_grade = ['B','C','C','E'], \n",
    "                            exam_grade=['A','C','A','E'], \n",
    "                            student_names = ['Simon','Jason','Jess','Steph']))\n",
    "\n",
    "# setup output file\n",
    "\n",
    "output_file(\"3.html\")\n",
    "\n",
    "# generate figure\n",
    "\n",
    "f = figure(x_range = x,\n",
    "          y_range = y)\n",
    "\n",
    "# Plot line\n",
    "\n",
    "f.circle(\n",
    "    x = 'average_grade',\n",
    "    y = 'exam_grade',\n",
    "    source = cds,\n",
    "    size = 8,\n",
    ")\n",
    "# add description\n",
    "description = Label(x=1,\n",
    "                    y=1,\n",
    "                    text=\"This graph shows average grades and exam grades for 3rd grade students\",\n",
    "                    render_mode=\"css\")\n",
    "\n",
    "show(f)\n"
   ]
  },
  {
   "cell_type": "code",
   "execution_count": null,
   "metadata": {},
   "outputs": [],
   "source": []
  }
 ],
 "metadata": {
  "kernelspec": {
   "display_name": "Python 3",
   "language": "python",
   "name": "python3"
  },
  "language_info": {
   "codemirror_mode": {
    "name": "ipython",
    "version": 3
   },
   "file_extension": ".py",
   "mimetype": "text/x-python",
   "name": "python",
   "nbconvert_exporter": "python",
   "pygments_lexer": "ipython3",
   "version": "3.8.5"
  }
 },
 "nbformat": 4,
 "nbformat_minor": 4
}
